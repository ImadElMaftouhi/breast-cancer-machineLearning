{
 "cells": [
  {
   "cell_type": "code",
   "execution_count": 2,
   "id": "97c21588-0c03-4ac6-acea-78c941a3d6d2",
   "metadata": {},
   "outputs": [],
   "source": [
    "import pandas as pd\n",
    "import numpy as np"
   ]
  },
  {
   "cell_type": "code",
   "execution_count": 3,
   "id": "0b1e7ab9-d758-40bb-bba1-79e792d9dcaa",
   "metadata": {
    "tags": []
   },
   "outputs": [
    {
     "name": "stdout",
     "output_type": "stream",
     "text": [
      "Pandas version:  2.0.3\n",
      "Numpy version:  1.24.3\n"
     ]
    }
   ],
   "source": [
    "print('Pandas version: ', pd.__version__)\n",
    "print('Numpy version: ', np.__version__)"
   ]
  },
  {
   "cell_type": "code",
   "execution_count": 5,
   "id": "19324f5d-a4e3-4c24-ad43-0b36ca9948f7",
   "metadata": {
    "tags": []
   },
   "outputs": [
    {
     "name": "stdout",
     "output_type": "stream",
     "text": [
      "0    1\n",
      "1    2\n",
      "2    3\n",
      "3    4\n",
      "4    5\n",
      "dtype: int64\n"
     ]
    }
   ],
   "source": [
    "# Series ; A 1-D array with multi type data\n",
    "var = pd.Series([1,2,3,4,5])\n",
    "print(var)"
   ]
  },
  {
   "cell_type": "code",
   "execution_count": 7,
   "id": "084158e6-e062-4605-ae2e-cef7d3d3dca5",
   "metadata": {},
   "outputs": [
    {
     "name": "stdout",
     "output_type": "stream",
     "text": [
      "a    1\n",
      "b    2\n",
      "c    3\n",
      "d    4\n",
      "e    5\n",
      "dtype: int64\n",
      "3\n",
      "1\n"
     ]
    }
   ],
   "source": [
    "# If no labelled are specified for the value in our array, then the values are indexed starting from 0\n",
    "# If we wish to add custom labels to our array, we may continue as:\n",
    "var = pd.Series([1,2,3,4,5], index = ['a','b','c','d','e'] )\n",
    "print(var)\n",
    "# Printing values from a specific index can be done either by specifing the label we declared, or by using the default integer indexs\n",
    "print(var[2])\n",
    "print(var['a'])"
   ]
  },
  {
   "cell_type": "code",
   "execution_count": null,
   "id": "a726442f-4e80-4b8d-bb58-69631506f929",
   "metadata": {},
   "outputs": [],
   "source": []
  }
 ],
 "metadata": {
  "kernelspec": {
   "display_name": "Python 3 (ipykernel)",
   "language": "python",
   "name": "python3"
  },
  "language_info": {
   "codemirror_mode": {
    "name": "ipython",
    "version": 3
   },
   "file_extension": ".py",
   "mimetype": "text/x-python",
   "name": "python",
   "nbconvert_exporter": "python",
   "pygments_lexer": "ipython3",
   "version": "3.11.5"
  }
 },
 "nbformat": 4,
 "nbformat_minor": 5
}
